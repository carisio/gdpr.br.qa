{
 "cells": [
  {
   "cell_type": "markdown",
   "id": "ce7626ca-0a6a-4ee2-b0b7-467fe2028cd9",
   "metadata": {},
   "source": [
    "# 4 - Results"
   ]
  },
  {
   "cell_type": "code",
   "execution_count": 58,
   "id": "c8c60fb8-bf47-40d8-94e1-b04a8f849385",
   "metadata": {},
   "outputs": [],
   "source": [
    "import pandas as pd"
   ]
  },
  {
   "cell_type": "code",
   "execution_count": 59,
   "id": "fa3ae4ad-8bfe-4a55-9dd5-7ee5becea06a",
   "metadata": {},
   "outputs": [],
   "source": [
    "dataset_file = \"dataset/gdpr-br-qa.jsonl\"\n",
    "df_dataset = pd.read_json(dataset_file, lines=True, encoding='utf-8')"
   ]
  },
  {
   "cell_type": "code",
   "execution_count": 60,
   "id": "44acacb3-b406-4d2b-ae1c-70b12cdb65a2",
   "metadata": {},
   "outputs": [],
   "source": [
    "EXPERIMENTS = [\n",
    "    \"no_context_gpt-4o-mini-2024-07-18\",\n",
    "    \"rag_3_gpt-4o-mini-2024-07-18\",\n",
    "    \"with_gdpr_gpt-4o-mini-2024-07-18\",\n",
    "    \n",
    "    \"no_context_llama-3.3-70b-versatile\",\n",
    "    \"rag_3_llama-3.3-70b-versatile\",\n",
    "    \"with_gdpr_llama-3.3-70b-versatile\",\n",
    "    \n",
    "    \"no_context_deepseek-chat\",\n",
    "    \"rag_3_deepseek-chat\",\n",
    "    \"with_gdpr_deepseek-chat\",\n",
    "    \n",
    "    \"no_context_sabia-3-2024-12-11\",\n",
    "    \"rag_3_sabia-3-2024-12-11\",\n",
    "    \"with_gdpr_sabia-3-2024-12-11\",\n",
    "]\n",
    "\n",
    "POSSIBLE_ANSWERS = [\"A\", \"B\", \"C\", \"D\", \"E\", \"Certo\", \"Errado\"]"
   ]
  },
  {
   "cell_type": "code",
   "execution_count": 68,
   "id": "05f47b7c-0c61-436f-b591-b076a6dc4c23",
   "metadata": {},
   "outputs": [],
   "source": [
    "def calcula_aderencia_ao_prompt(df):\n",
    "    df_aderencia = df.copy()\n",
    "    \n",
    "    for exp in EXPERIMENTS:\n",
    "        df_aderencia[exp] = df[exp].isin(POSSIBLE_ANSWERS)\n",
    "\n",
    "    return df_aderencia"
   ]
  },
  {
   "cell_type": "code",
   "execution_count": 69,
   "id": "a71ec635-1c52-40c4-921d-d6687771efac",
   "metadata": {},
   "outputs": [],
   "source": [
    "def calcular_resultados(df):\n",
    "    df_result = df.copy()\n",
    "    \n",
    "    for exp in EXPERIMENTS:\n",
    "        df_result[exp] = df['Answer'] == df[exp]\n",
    "\n",
    "    return df_result"
   ]
  },
  {
   "cell_type": "code",
   "execution_count": 70,
   "id": "7340fad4-0975-4c6c-93b8-caa92695621c",
   "metadata": {},
   "outputs": [],
   "source": [
    "def normalizar_resposta_string(valor):\n",
    "    # Se o valor for um dos possíveis, está certo e não faz nada\n",
    "    if valor in POSSIBLE_ANSWERS:\n",
    "        return valor\n",
    "\n",
    "    # Se a resposta começar com algumas frases, remove essas frases:\n",
    "    frases_para_remover = [\"A resposta correta é a alternativa: \",\n",
    "                           \"A resposta correta é a alternativa \",\n",
    "                           \"A resposta é \"]\n",
    "    for para_remover in frases_para_remover:\n",
    "        if valor.startswith(para_remover):\n",
    "            valor = valor[len(para_remover):]\n",
    "        \n",
    "    # Tenta tratar o caso em que o LLM copia a resposta (por exemplo: \"A) Apenas I, II e III\").\n",
    "    # E o caso dele colocar uma resposta possível e botar um ponto final (por exemplo: \"Errado.\")\n",
    "    # Nesses casos, retorna só o valor da resposta\n",
    "    for ans in POSSIBLE_ANSWERS:\n",
    "        if valor.startswith(ans + \".\") or valor.startswith(ans + \")\"):\n",
    "            return ans  # Retorna o valor base encontrado em POSSIBLE_ANSWERS\n",
    "\n",
    "    # Se não cair nas regras acima, retorna do jeito errado mesmo\n",
    "    return valor\n",
    "        \n",
    "def normalizar_respostas(df):\n",
    "    df_tratado = df.copy()  # Copia a coluna ID\n",
    "    \n",
    "    #Aplicando a normalização para cada coluna de EXPERIMENTS\n",
    "    for exp in EXPERIMENTS:\n",
    "        df_tratado[exp] = df[exp].apply(normalizar_resposta_string)\n",
    "    \n",
    "    return df_tratado"
   ]
  },
  {
   "cell_type": "code",
   "execution_count": 72,
   "id": "c5a80ed6-3568-4ab9-8d3c-dc15599e1156",
   "metadata": {},
   "outputs": [
    {
     "name": "stdout",
     "output_type": "stream",
     "text": [
      "########### ADERÊNCIA AO PROMPT ###########\n"
     ]
    },
    {
     "data": {
      "text/plain": [
       "no_context_gpt-4o-mini-2024-07-18     0.992857\n",
       "rag_3_gpt-4o-mini-2024-07-18          0.988571\n",
       "with_gdpr_gpt-4o-mini-2024-07-18      0.938571\n",
       "no_context_llama-3.3-70b-versatile    0.904286\n",
       "rag_3_llama-3.3-70b-versatile         0.934286\n",
       "with_gdpr_llama-3.3-70b-versatile     0.301429\n",
       "no_context_deepseek-chat              1.000000\n",
       "rag_3_deepseek-chat                   1.000000\n",
       "with_gdpr_deepseek-chat               1.000000\n",
       "no_context_sabia-3-2024-12-11         0.977143\n",
       "rag_3_sabia-3-2024-12-11              0.978571\n",
       "with_gdpr_sabia-3-2024-12-11          0.842857\n",
       "dtype: float64"
      ]
     },
     "execution_count": 72,
     "metadata": {},
     "output_type": "execute_result"
    }
   ],
   "source": [
    "print('########### ADERÊNCIA AO PROMPT ###########')\n",
    "df_aderencia = calcula_aderencia_ao_prompt(df_dataset)\n",
    "df_aderencia[EXPERIMENTS].mean()"
   ]
  },
  {
   "cell_type": "code",
   "execution_count": 73,
   "id": "6dd31063-acce-4c17-ab04-0b796fd78ab2",
   "metadata": {},
   "outputs": [
    {
     "name": "stdout",
     "output_type": "stream",
     "text": [
      "########### ADERÊNCIA AO PROMPT - APÓS NORMALIZAÇÃO DOS RESULTADOS ###########\n"
     ]
    },
    {
     "data": {
      "text/plain": [
       "no_context_gpt-4o-mini-2024-07-18     1.000000\n",
       "rag_3_gpt-4o-mini-2024-07-18          0.998571\n",
       "with_gdpr_gpt-4o-mini-2024-07-18      0.995714\n",
       "no_context_llama-3.3-70b-versatile    0.984286\n",
       "rag_3_llama-3.3-70b-versatile         0.965714\n",
       "with_gdpr_llama-3.3-70b-versatile     0.972857\n",
       "no_context_deepseek-chat              1.000000\n",
       "rag_3_deepseek-chat                   1.000000\n",
       "with_gdpr_deepseek-chat               1.000000\n",
       "no_context_sabia-3-2024-12-11         1.000000\n",
       "rag_3_sabia-3-2024-12-11              1.000000\n",
       "with_gdpr_sabia-3-2024-12-11          1.000000\n",
       "dtype: float64"
      ]
     },
     "execution_count": 73,
     "metadata": {},
     "output_type": "execute_result"
    }
   ],
   "source": [
    "print('########### ADERÊNCIA AO PROMPT - APÓS NORMALIZAÇÃO DOS RESULTADOS ###########')\n",
    "df_aderencia = calcula_aderencia_ao_prompt(normalizar_respostas(df_dataset))\n",
    "df_aderencia[EXPERIMENTS].mean()"
   ]
  },
  {
   "cell_type": "code",
   "execution_count": 75,
   "id": "28c82436-2149-4ee5-831d-0b3381c39736",
   "metadata": {},
   "outputs": [
    {
     "name": "stdout",
     "output_type": "stream",
     "text": [
      "########### RESULTADOS SEM TRATAR A RESPOSTA ###########\n"
     ]
    },
    {
     "data": {
      "text/plain": [
       "no_context_gpt-4o-mini-2024-07-18     0.757143\n",
       "rag_3_gpt-4o-mini-2024-07-18          0.838571\n",
       "with_gdpr_gpt-4o-mini-2024-07-18      0.832857\n",
       "no_context_llama-3.3-70b-versatile    0.731429\n",
       "rag_3_llama-3.3-70b-versatile         0.825714\n",
       "with_gdpr_llama-3.3-70b-versatile     0.277143\n",
       "no_context_deepseek-chat              0.850000\n",
       "rag_3_deepseek-chat                   0.905714\n",
       "with_gdpr_deepseek-chat               0.941429\n",
       "no_context_sabia-3-2024-12-11         0.867143\n",
       "rag_3_sabia-3-2024-12-11              0.884286\n",
       "with_gdpr_sabia-3-2024-12-11          0.780000\n",
       "dtype: float64"
      ]
     },
     "execution_count": 75,
     "metadata": {},
     "output_type": "execute_result"
    }
   ],
   "source": [
    "print('########### RESULTADOS SEM TRATAR A RESPOSTA ###########')\n",
    "df_results = calcular_resultados(df_dataset)\n",
    "df_results[EXPERIMENTS].mean()"
   ]
  },
  {
   "cell_type": "code",
   "execution_count": 76,
   "id": "e9dd363d-417f-4959-8744-903984cca8ea",
   "metadata": {},
   "outputs": [
    {
     "name": "stdout",
     "output_type": "stream",
     "text": [
      "########### RESULTADOS TRATANDO A RESPOSTA ###########\n"
     ]
    },
    {
     "data": {
      "text/plain": [
       "no_context_gpt-4o-mini-2024-07-18     0.761429\n",
       "rag_3_gpt-4o-mini-2024-07-18          0.841429\n",
       "with_gdpr_gpt-4o-mini-2024-07-18      0.862857\n",
       "no_context_llama-3.3-70b-versatile    0.784286\n",
       "rag_3_llama-3.3-70b-versatile         0.847143\n",
       "with_gdpr_llama-3.3-70b-versatile     0.871429\n",
       "no_context_deepseek-chat              0.850000\n",
       "rag_3_deepseek-chat                   0.905714\n",
       "with_gdpr_deepseek-chat               0.941429\n",
       "no_context_sabia-3-2024-12-11         0.887143\n",
       "rag_3_sabia-3-2024-12-11              0.902857\n",
       "with_gdpr_sabia-3-2024-12-11          0.918571\n",
       "dtype: float64"
      ]
     },
     "execution_count": 76,
     "metadata": {},
     "output_type": "execute_result"
    }
   ],
   "source": [
    "print('########### RESULTADOS TRATANDO A RESPOSTA ###########')\n",
    "df_results = calcular_resultados(normalizar_respostas(df_dataset))\n",
    "df_results[EXPERIMENTS].mean()"
   ]
  },
  {
   "cell_type": "code",
   "execution_count": null,
   "id": "805106e5-e04f-4aad-bbc8-705b426695f3",
   "metadata": {},
   "outputs": [],
   "source": [
    "df_dataset.columns"
   ]
  }
 ],
 "metadata": {
  "kernelspec": {
   "display_name": "Python 3 (ipykernel)",
   "language": "python",
   "name": "python3"
  },
  "language_info": {
   "codemirror_mode": {
    "name": "ipython",
    "version": 3
   },
   "file_extension": ".py",
   "mimetype": "text/x-python",
   "name": "python",
   "nbconvert_exporter": "python",
   "pygments_lexer": "ipython3",
   "version": "3.12.7"
  }
 },
 "nbformat": 4,
 "nbformat_minor": 5
}
